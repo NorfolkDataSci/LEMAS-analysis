{
 "cells": [
  {
   "cell_type": "markdown",
   "metadata": {},
   "source": [
    "# LEMAS Analysis\n",
    "\n",
    "**Author:** [Josiah Baker](mailto:josiahfbaker@gmail.com)  \n",
    "**Organization:** [Norfolk Data Science Group](mailto:norfolkdatasci@gmail.com)  \n",
    "\n",
    "This notebook is a quick getting started for the LEMAS dataset and a gentle introduction into using [Jupyter Notebooks](http://jupyter.org) for Data Analysis.\n",
    "\n",
    "### Initial observations\n",
    "\n",
    "After taking a look at the 1987-Cookbook.pdf, the following are a few of my observations:\n",
    "\n",
    "- Started as a mail survey in 1987\n",
    "- Covers the whole united states\n",
    "- 15,000 departments in 1987:\n",
    "\t- 3,000 sherriff's departments\n",
    "\t- 12,000 local law enforcement\n",
    "- Repeated every 3 years\n",
    "- 95.2% response rate!!\n",
    "- Dimensions: 2907 cases, 508 variables"
   ]
  },
  {
   "cell_type": "code",
   "execution_count": 13,
   "metadata": {
    "collapsed": false
   },
   "outputs": [],
   "source": [
    "import pandas as pd\n",
    "\n",
    "# load the first study\n",
    "# all years except 2003.. weird file format in 2003\n",
    "\n",
    "years = map(str, [1987,1990,1993,1997,2000,2007,2013])\n",
    "\n",
    "complete_study = {\n",
    "    year:pd.read_csv('data/' + year + '-Data.tsv', sep='\\t', low_memory=False)\n",
    "    for year in years\n",
    "}\n",
    "\n",
    "complete_study['2003'] = pd.read_sas('data/2003-Data.xpt')"
   ]
  },
  {
   "cell_type": "markdown",
   "metadata": {
    "collapsed": false
   },
   "source": [
    "### Next steps\n",
    "\n",
    "Each year seems to have different columns and different column names. Some work will need to be done to map these to one single dataframe."
   ]
  },
  {
   "cell_type": "code",
   "execution_count": null,
   "metadata": {
    "collapsed": true
   },
   "outputs": [],
   "source": []
  }
 ],
 "metadata": {
  "hide_input": false,
  "kernelspec": {
   "display_name": "Python 2",
   "language": "python",
   "name": "python2"
  },
  "language_info": {
   "codemirror_mode": {
    "name": "ipython",
    "version": 2
   },
   "file_extension": ".py",
   "mimetype": "text/x-python",
   "name": "python",
   "nbconvert_exporter": "python",
   "pygments_lexer": "ipython2",
   "version": "2.7.11"
  }
 },
 "nbformat": 4,
 "nbformat_minor": 0
}
