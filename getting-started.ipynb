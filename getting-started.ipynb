{
 "cells": [
  {
   "cell_type": "markdown",
   "metadata": {},
   "source": [
    "# LEMAS Analysis\n",
    "\n",
    "**Author:** [Josiah Baker](mailto:josiahfbaker@gmail.com)  \n",
    "**Organization:** [Norfolk Data Science Group](mailto:norfolkdatasci@gmail.com)  \n",
    "\n",
    "This notebook is a quick getting started for the LEMAS dataset and a gentle introduction into using [Jupyter Notebooks](http://jupyter.org) for Data Analysis.\n",
    "\n",
    "### Initial observations\n",
    "\n",
    "After taking a look at the 1987-Cookbook.pdf, the following are a few of my observations:\n",
    "\n",
    "- Started as a mail survey in 1987\n",
    "- Covers the whole united states\n",
    "- 15,000 departments in 1987:\n",
    "\t- 3,000 sherriff's departments\n",
    "\t- 12,000 local law enforcement\n",
    "- Sample of about 3,000 drawn from these 15,000\n",
    "- Repeated every 3 years\n",
    "- 95.2% response rate in sample!!\n",
    "- Dimensions: 2907 cases, 508 variables\n",
    "\n",
    "### Loading the data"
   ]
  },
  {
   "cell_type": "code",
   "execution_count": 11,
   "metadata": {
    "collapsed": false
   },
   "outputs": [],
   "source": [
    "import pandas as pd\n",
    "pd.set_option('display.max_columns', 999)\n",
    "\n",
    "# load each year\n",
    "\n",
    "years = map(str, [1987,1990,1993,1997,1999,2000,2003,2007,2013])\n",
    "\n",
    "complete_study = {\n",
    "    year:pd.read_csv('data/' + year + '-Data_with_headers.csv', low_memory=False)\n",
    "    for year in years\n",
    "}\n",
    "\n",
    "# access a year by complete_study['year']\n",
    "\n",
    "complete_study.head()"
   ]
  },
  {
   "cell_type": "markdown",
   "metadata": {
    "collapsed": false
   },
   "source": [
    "### Merging years\n",
    "\n",
    "Now that each year is loaded as a dataframe, a quick inspection of the columns indicates that each year has different column name. To proceed, read the Codebook.pdf for a year you want to start your analysis in, and then manually identify what column name to use for subsequent studies."
   ]
  }
 ],
 "metadata": {
  "hide_input": false,
  "kernelspec": {
   "display_name": "Python 2",
   "language": "python",
   "name": "python2"
  },
  "language_info": {
   "codemirror_mode": {
    "name": "ipython",
    "version": 2
   },
   "file_extension": ".py",
   "mimetype": "text/x-python",
   "name": "python",
   "nbconvert_exporter": "python",
   "pygments_lexer": "ipython2",
   "version": "2.7.11"
  }
 },
 "nbformat": 4,
 "nbformat_minor": 0
}
