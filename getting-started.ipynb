{
 "cells": [
  {
   "cell_type": "markdown",
   "metadata": {},
   "source": [
    "# LEMAS Analysis\n",
    "\n",
    "**Author:** [Josiah Baker](mailto:josiahfbaker@gmail.com)  \n",
    "**Organization:** [Norfolk Data Science Group](mailto:norfolkdatasci@gmail.com)  \n",
    "\n",
    "This notebook is a quick getting started for the LEMAS dataset and a gentle introduction into using [Jupyter Notebooks](http://jupyter.org) for Data Analysis.\n",
    "\n",
    "### Initial observations\n",
    "\n",
    "After taking a look at the 1987-Cookbook.pdf, the following are a few of my observations:\n",
    "\n",
    "- Started as a mail survey in 1987\n",
    "- Covers the whole united states\n",
    "- 15,000 departments in 1987:\n",
    "\t- 3,000 sherriff's departments\n",
    "\t- 12,000 local law enforcement\n",
    "- Repeated every 3 years\n",
    "- 95.2% response rate!!\n",
    "- Dimensions: 2907 cases, 508 variables"
   ]
  },
  {
   "cell_type": "code",
   "execution_count": 9,
   "metadata": {
    "collapsed": false
   },
   "outputs": [],
   "source": [
    "# load the first study\n",
    "\n",
    "import pandas as pd\n",
    "\n",
    "data_1987 = pd.read_csv(\"data/1987-Data.txt\", header = None, sep = \"\\t\")"
   ]
  },
  {
   "cell_type": "code",
   "execution_count": 2,
   "metadata": {
    "collapsed": false
   },
   "outputs": [
    {
     "data": {
      "text/html": [
       "<div>\n",
       "<table border=\"1\" class=\"dataframe\">\n",
       "  <thead>\n",
       "    <tr style=\"text-align: right;\">\n",
       "      <th></th>\n",
       "      <th>922211  2044 100000009290200STATE HWY DIV                     1101524000 2154000 10001110001001001000000105  699999999999999999999999999999999999999999999999999999 100  0  0 0  0   0   0   0  0  0 0  0   0   0  0  0  0 0 0   0   0  0  0  00 0 6001500100 0  00 010001900 20 0  00 01800 300125  0  00 0   0   0  0 0  00 0   0   0  0 0  0001109999999999999999999991011031 00   0   0  0  0 0111111013571 45 580  90  0  0  0 0 0 0  012331000011000001001001403    0 1086   0 791   0  725  0 529   0  29 0  28  0  671  0  31  0  25  0 470  0   0 0   0 0  0 0  0  0 0 0   0   0  712  13 199 330  519   6 161 242 193  7 38  88   0  0  0  0  0 0  0  0 0000 00 0 0  0 0  0  0100185 93086 52848 5284820670313561655625168 16556 2516899999999999999  34945497     0 6813703 2920094   59544       020 0000001011022211000000001 700 260 896921000010033333313331122112111 10315999999999999999999999999999999999999999999999999999999999999999999999999999999999999999999999999999999999999999999999999999999999999999999999999999999999999999999999999999999999999999999999999999999999999999999999999999999999999999999999999999999999999999999999999999999999999999999999999999999999999999999999999999999999999999999999999999999999999999999999999999999999999999999999999999999999999999999999999999999999999999999999999999999999999999999999999999999999999999999999999999999999999999999999999999999999999999999999999999999999999999999999999999999999999999999999999</th>\n",
       "    </tr>\n",
       "  </thead>\n",
       "  <tbody>\n",
       "    <tr>\n",
       "      <th>0</th>\n",
       "      <td>922211  244A 110020021210100COUNTY SHERIFFS DE...</td>\n",
       "    </tr>\n",
       "    <tr>\n",
       "      <th>1</th>\n",
       "      <td>922211  244A 110030038210100BARBOUR CO SHERIFF...</td>\n",
       "    </tr>\n",
       "    <tr>\n",
       "      <th>2</th>\n",
       "      <td>922211  244A 110040045210100SHERIFF S DEPT    ...</td>\n",
       "    </tr>\n",
       "    <tr>\n",
       "      <th>3</th>\n",
       "      <td>922211  244A 110070075210100SHERIFF S DEPT    ...</td>\n",
       "    </tr>\n",
       "    <tr>\n",
       "      <th>4</th>\n",
       "      <td>922211  244A 110080082210100CALHOUN CO SHERIFF...</td>\n",
       "    </tr>\n",
       "  </tbody>\n",
       "</table>\n",
       "</div>"
      ],
      "text/plain": [
       "  922211  2044 100000009290200STATE HWY DIV                     1101524000 2154000 10001110001001001000000105  699999999999999999999999999999999999999999999999999999 100  0  0 0  0   0   0   0  0  0 0  0   0   0  0  0  0 0 0   0   0  0  0  00 0 6001500100 0  00 010001900 20 0  00 01800 300125  0  00 0   0   0  0 0  00 0   0   0  0 0  0001109999999999999999999991011031 00   0   0  0  0 0111111013571 45 580  90  0  0  0 0 0 0  012331000011000001001001403    0 1086   0 791   0  725  0 529   0  29 0  28  0  671  0  31  0  25  0 470  0   0 0   0 0  0 0  0  0 0 0   0   0  712  13 199 330  519   6 161 242 193  7 38  88   0  0  0  0  0 0  0  0 0000 00 0 0  0 0  0  0100185 93086 52848 5284820670313561655625168 16556 2516899999999999999  34945497     0 6813703 2920094   59544       020 0000001011022211000000001 700 260 896921000010033333313331122112111 10315999999999999999999999999999999999999999999999999999999999999999999999999999999999999999999999999999999999999999999999999999999999999999999999999999999999999999999999999999999999999999999999999999999999999999999999999999999999999999999999999999999999999999999999999999999999999999999999999999999999999999999999999999999999999999999999999999999999999999999999999999999999999999999999999999999999999999999999999999999999999999999999999999999999999999999999999999999999999999999999999999999999999999999999999999999999999999999999999999999999999999999999999999999999999999999999999\n",
       "0  922211  244A 110020021210100COUNTY SHERIFFS DE...                                                                                                                                                                                                                                                                                                                                                                                                                                                                                                                                                                                                                                                                                                                                                                                                                                                                                                                                                                                                                                                                                                                                                                                                                                                                                                                                                                                                                                        \n",
       "1  922211  244A 110030038210100BARBOUR CO SHERIFF...                                                                                                                                                                                                                                                                                                                                                                                                                                                                                                                                                                                                                                                                                                                                                                                                                                                                                                                                                                                                                                                                                                                                                                                                                                                                                                                                                                                                                                        \n",
       "2  922211  244A 110040045210100SHERIFF S DEPT    ...                                                                                                                                                                                                                                                                                                                                                                                                                                                                                                                                                                                                                                                                                                                                                                                                                                                                                                                                                                                                                                                                                                                                                                                                                                                                                                                                                                                                                                        \n",
       "3  922211  244A 110070075210100SHERIFF S DEPT    ...                                                                                                                                                                                                                                                                                                                                                                                                                                                                                                                                                                                                                                                                                                                                                                                                                                                                                                                                                                                                                                                                                                                                                                                                                                                                                                                                                                                                                                        \n",
       "4  922211  244A 110080082210100CALHOUN CO SHERIFF...                                                                                                                                                                                                                                                                                                                                                                                                                                                                                                                                                                                                                                                                                                                                                                                                                                                                                                                                                                                                                                                                                                                                                                                                                                                                                                                                                                                                                                        "
      ]
     },
     "execution_count": 2,
     "metadata": {},
     "output_type": "execute_result"
    }
   ],
   "source": []
  },
  {
   "cell_type": "code",
   "execution_count": null,
   "metadata": {
    "collapsed": true
   },
   "outputs": [],
   "source": []
  }
 ],
 "metadata": {
  "hide_input": false,
  "kernelspec": {
   "display_name": "Python 2",
   "language": "python",
   "name": "python2"
  },
  "language_info": {
   "codemirror_mode": {
    "name": "ipython",
    "version": 2
   },
   "file_extension": ".py",
   "mimetype": "text/x-python",
   "name": "python",
   "nbconvert_exporter": "python",
   "pygments_lexer": "ipython2",
   "version": "2.7.11"
  }
 },
 "nbformat": 4,
 "nbformat_minor": 0
}
