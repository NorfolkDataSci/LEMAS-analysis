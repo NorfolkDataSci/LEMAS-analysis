{
 "cells": [
  {
   "cell_type": "markdown",
   "metadata": {},
   "source": [
    "# LEMAS Analysis\n",
    "\n",
    "**Author:** [Josiah Baker](mailto:josiahfbaker@gmail.com)  \n",
    "**Organization:** [Norfolk Data Science Group](mailto:norfolkdatasci@gmail.com)  \n",
    "\n",
    "This notebook is a quick getting started for the LEMAS dataset and a gentle introduction into using [Jupyter Notebooks](http://jupyter.org) for Data Analysis.\n",
    "\n",
    "### Initial observations\n",
    "\n",
    "After taking a look at the 1987-Cookbook.pdf, the following are a few of my observations:\n",
    "\n",
    "- Started as a mail survey in 1987\n",
    "- Covers the whole united states\n",
    "- 15,000 departments in 1987:\n",
    "\t- 3,000 sherriff's departments\n",
    "\t- 12,000 local law enforcement\n",
    "- Repeated every 3 years\n",
    "- 95.2% response rate!!\n",
    "- Dimensions: 2907 cases, 508 variables"
   ]
  },
  {
   "cell_type": "code",
   "execution_count": 9,
   "metadata": {
    "collapsed": false
   },
   "outputs": [],
   "source": [
    "# load the first study\n",
    "\n",
    "import pandas as pd\n",
    "\n",
    "#data_87 = pd.read_table(\"data/1987-Data.txt\")"
   ]
  },
  {
   "cell_type": "code",
   "execution_count": null,
   "metadata": {
    "collapsed": true
   },
   "outputs": [],
   "source": []
  }
 ],
 "metadata": {},
 "nbformat": 4,
 "nbformat_minor": 0
}
